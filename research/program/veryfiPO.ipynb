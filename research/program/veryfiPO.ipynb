{
 "cells": [
  {
   "cell_type": "markdown",
   "metadata": {},
   "source": [
    "# verifyPO"
   ]
  },
  {
   "cell_type": "code",
   "execution_count": 3,
   "metadata": {},
   "outputs": [
    {
     "ename": "SystemError",
     "evalue": "SystemError: opening file \"/home/qsu/workspace/research_B/res/prog/FsPO.jl\": No such file or directory",
     "output_type": "error",
     "traceback": [
      "SystemError: opening file \"/home/qsu/workspace/research_B/res/prog/FsPO.jl\": No such file or directory\n",
      "\n",
      "Stacktrace:\n",
      "  [1] systemerror(p::String, errno::Int32; extrainfo::Nothing)\n",
      "    @ Base ./error.jl:176\n",
      "  [2] systemerror\n",
      "    @ ./error.jl:175 [inlined]\n",
      "  [3] open(fname::String; lock::Bool, read::Nothing, write::Nothing, create::Nothing, truncate::Nothing, append::Nothing)\n",
      "    @ Base ./iostream.jl:293\n",
      "  [4] open\n",
      "    @ ./iostream.jl:275 [inlined]\n",
      "  [5] open(f::Base.var\"#433#434\"{String}, args::String; kwargs::@Kwargs{})\n",
      "    @ Base ./io.jl:394\n",
      "  [6] open\n",
      "    @ ./io.jl:393 [inlined]\n",
      "  [7] read\n",
      "    @ ./io.jl:486 [inlined]\n",
      "  [8] _include(mapexpr::Function, mod::Module, _path::String)\n",
      "    @ Base ./loading.jl:2132\n",
      "  [9] include(fname::String)\n",
      "    @ Base.MainInclude ./client.jl:489\n",
      " [10] top-level scope\n",
      "    @ ~/workspace/research_B/res/prog/veryfiPO.ipynb:2"
     ]
    }
   ],
   "source": [
    "#include(\"FourierChebyshev.jl\")\n",
    "include(\"FsPO.jlffsf\")\n",
    "\n",
    "function vanderpol(du, u , μ ,t)\n",
    "  x,y = u\n",
    "  du[1] = y\n",
    "  du[2] = μ*(1- x ^2)*y - x\n",
    "end\n",
    "\n",
    "function F_fourier(x, μ, η₀)\n",
    "  N = length(x)/2\n",
    "  ω = x[1]\n",
    "  a = x[2:end]\n",
    "  (a³,~) = powerconvfourier(a,3)\n",
    "  eta = sum(a) - η₀\n",
    "\n",
    "  k = -(N-1):(N-1)\n",
    "  f = (- k.^2 * ω^2 - μ* im * k * ω .+ 1) .* a + μ*im * k *ω .* a³ / 3\n",
    "\n",
    "  return [eta;f]\n",
    "end\n",
    "\n",
    "function DF_fourier(x, μ)\n",
    "  N = Int((length(x))/2)\n",
    "  ω = x[1]\n",
    "  a = x[2:end]\n",
    "  k = (-N+1):(N-1)\n",
    "  (a³,~) = powerconvfourier(a,3)\n",
    "\n",
    "  DF = zeros(ComplexF64,2N,2N)\n",
    "\n",
    "  DF[1,2:end] .= 1\n",
    "  DF[2:end,1] = (- 2*ω*k.^2 - μ*im*k) .* a + μ*im*k .*a³/3\n",
    "\n",
    "  (~,a2) = powerconvfourier(a,2)\n",
    "\n",
    "  M = zeros(ComplexF64,2*N-1, 2*N-1)\n",
    "\n",
    "  for j=(-N+1):(N-1)\n",
    "      M[k.+N, j+N] = μ*im*k*ω.*a2[k.-j.+(2*N-1)]\n",
    "  end\n",
    "  \n",
    "  L = diagm(- k.^2 * ω^2 - μ* im * k * ω .+ 1)\n",
    "  \n",
    "  DF[2:end,2:end] = L + M\n",
    "  return DF\n",
    "end"
   ]
  }
 ],
 "metadata": {
  "kernelspec": {
   "display_name": "Julia 1.10.4",
   "language": "julia",
   "name": "julia-1.10"
  },
  "language_info": {
   "file_extension": ".jl",
   "mimetype": "application/julia",
   "name": "julia",
   "version": "1.10.4"
  }
 },
 "nbformat": 4,
 "nbformat_minor": 2
}
