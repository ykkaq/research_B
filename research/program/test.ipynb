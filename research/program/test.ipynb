{
 "cells": [
  {
   "cell_type": "code",
   "execution_count": 51,
   "metadata": {},
   "outputs": [
    {
     "name": "stdout",
     "output_type": "stream",
     "text": [
      "Julia Version 1.11.2\n",
      "Commit 5e9a32e7af (2024-12-01 20:02 UTC)\n",
      "Build Info:\n",
      "  Official https://julialang.org/ release\n",
      "Platform Info:\n",
      "  OS: Windows (x86_64-w64-mingw32)\n",
      "  CPU: 16 × Intel(R) Core(TM) i7-10700F CPU @ 2.90GHz\n",
      "  WORD_SIZE: 64\n",
      "  LLVM: libLLVM-16.0.6 (ORCJIT, skylake)\n",
      "Threads: 1 default, 0 interactive, 1 GC (on 16 virtual cores)\n",
      "Environment:\n",
      "  JULIA_NUM_THREADS = \n"
     ]
    }
   ],
   "source": [
    "versioninfo()\n",
    "using LinearAlgebra, DifferentialEquations, FFTW\n"
   ]
  },
  {
   "cell_type": "code",
   "execution_count": 19,
   "metadata": {},
   "outputs": [
    {
     "data": {
      "text/plain": [
       "vanderpol (generic function with 1 method)"
      ]
     },
     "metadata": {},
     "output_type": "display_data"
    }
   ],
   "source": [
    "using DifferentialEquations\n",
    "\n",
    "function vanderpol(du, u , μ ,t)\n",
    "    x,y = u\n",
    "    du[1] = y\n",
    "    du[2] = μ*(1- x ^2)*y - x\n",
    "end"
   ]
  },
  {
   "cell_type": "markdown",
   "metadata": {},
   "source": [
    "初期値 $(x,y)(0,0) = (0,2) ,\\ \\mu = 1$"
   ]
  },
  {
   "cell_type": "code",
   "execution_count": 46,
   "metadata": {},
   "outputs": [
    {
     "data": {
      "text/plain": [
       "retcode: Success\n",
       "Interpolation: specialized 4th order \"free\" interpolation\n",
       "t: 2044-element Vector{Float64}:\n",
       "   0.0\n",
       "   0.009232541136674264\n",
       "   0.02503848692409142\n",
       "   0.04358791409289996\n",
       "   0.066445221117261\n",
       "   0.09233090171528248\n",
       "   0.1213988849663063\n",
       "   0.15277986388185555\n",
       "   0.18598700743093166\n",
       "   0.22027027615414818\n",
       "   ⋮\n",
       "  99.52381496790424\n",
       "  99.59923289626322\n",
       "  99.66979363634076\n",
       "  99.73619369475293\n",
       "  99.7988175078404\n",
       "  99.85804380403948\n",
       "  99.91404171410896\n",
       "  99.96694629950848\n",
       " 100.0\n",
       "u: 2044-element Vector{Vector{Float64}}:\n",
       " [0.0, 2.0]\n",
       " [0.01855031657580365, 2.0184626866340247]\n",
       " [0.050703595436878524, 2.050027988176535]\n",
       " [0.08907287465040681, 2.086909821404441]\n",
       " [0.13728952243153142, 2.1319144155808947]\n",
       " [0.19312565278980298, 2.1819383562142463]\n",
       " [0.2573461944267867, 2.236335516474371]\n",
       " [0.3284087346554558, 2.2920864005994797]\n",
       " [0.4054411340434457, 2.346530010799726]\n",
       " [0.48676248948641215, 2.396334097989657]\n",
       " ⋮\n",
       " [-0.6904458176182865, 1.4494549499984788]\n",
       " [-0.5768494312901459, 1.5651624032998317]\n",
       " [-0.4622367036788376, 1.6854220662249155]\n",
       " [-0.34627089621755813, 1.809194606802259]\n",
       " [-0.22908593257354865, 1.9346038871653324]\n",
       " [-0.1108350993245959, 2.0594036891988177]\n",
       " [0.007872461244201134, 2.1805717626718906]\n",
       " [0.12626494857357923, 2.2947718151461682]\n",
       " [0.20326945132545782, 2.3642078888769786]"
      ]
     },
     "metadata": {},
     "output_type": "display_data"
    }
   ],
   "source": [
    "u₀ = [0.0; 2.0]\n",
    "tspan = (0.0, 100)\n",
    "μ = 1.0\n",
    "prob = ODEProblem(vanderpol, u₀, tspan, μ)\n",
    "sol = solve(prob,Tsit5(),reltol=1e-8,abstol=1e-8)"
   ]
  },
  {
   "cell_type": "code",
   "execution_count": null,
   "metadata": {},
   "outputs": [
    {
     "data": {
      "text/plain": [
       "\"c:\\\\Users\\\\yu-ki\\\\research_B-Shortcut\\\\report\\\\last_anno\\\\slide\\\\vdp.png\""
      ]
     },
     "metadata": {},
     "output_type": "display_data"
    }
   ],
   "source": [
    "using Plotshttps://www.hinokoto.com/interval-timer/\n",
    "default(\n",
    "  guidefontsize=15,\n",
    "  tickfontsize=15,\n",
    "  legendfontsize=12,\n",
    "  margin=5Plots.mm,\n",
    ")\n",
    "\n",
    "plot(sol, vars=(1,2), size=(600,400), label=\"van der Pol\", xlabel=\"\\$x\\$\", ylabel=\"\\$y\\$\")\n",
    "savefig(\"../../report/last_anno/slide/vdp.png\")"
   ]
  },
  {
   "cell_type": "code",
   "execution_count": 22,
   "metadata": {},
   "outputs": [
    {
     "data": {
      "text/plain": [
       "2×7621 Matrix{Float64}:\n",
       "    0.0     0.999416     1.66738    2.37534  …  0.767416  0.870459  0.961378\n",
       " 1000.0  1000.67      1000.12     997.905       2.67447   2.6768    2.6602"
      ]
     },
     "metadata": {},
     "output_type": "display_data"
    }
   ],
   "source": [
    "function wnorm(a, ν)\n",
    "  N = (length(a)+1)/2 # length(a) = 2*N-1\n",
    "  k = (-N+1):(N-1)\n",
    "  w = ν.^abs.(k)\n",
    "  return sum(abs.(a).*w)\n",
    "end\n",
    "\n",
    "function mynorm(a)\n",
    "  return sum(abs.(a))"
   ]
  }
 ],
 "metadata": {
  "kernelspec": {
   "display_name": "Julia 1.11.2",
   "language": "julia",
   "name": "julia-1.11"
  },
  "language_info": {
   "file_extension": ".jl",
   "mimetype": "application/julia",
   "name": "julia",
   "version": "1.11.2"
  }
 },
 "nbformat": 4,
 "nbformat_minor": 2
}
