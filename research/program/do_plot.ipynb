{
 "cells": [
  {
   "cell_type": "code",
   "execution_count": 28,
   "metadata": {},
   "outputs": [
    {
     "ename": "Pkg.Types.PkgError",
     "evalue": "The following package names could not be resolved:\n * Ploynomials (not found in project, manifest or registry)\n\u001b[36m   Suggestions:\u001b[39m \u001b[0m\u001b[1mP\u001b[22mo\u001b[0m\u001b[1ml\u001b[22myn\u001b[0m\u001b[1mo\u001b[22mmials Monomials \u001b[0m\u001b[1mP\u001b[22mo\u001b[0m\u001b[1ml\u001b[22myn\u001b[0m\u001b[1mo\u001b[22mmials4ML \u001b[0m\u001b[1mP\u001b[22mo\u001b[0m\u001b[1ml\u001b[22myn\u001b[0m\u001b[1mo\u001b[22mmialGTM",
     "output_type": "error",
     "traceback": [
      "The following package names could not be resolved:\n",
      " * Ploynomials (not found in project, manifest or registry)\n",
      "\u001b[36m   Suggestions:\u001b[39m \u001b[0m\u001b[1mP\u001b[22mo\u001b[0m\u001b[1ml\u001b[22myn\u001b[0m\u001b[1mo\u001b[22mmials Monomials \u001b[0m\u001b[1mP\u001b[22mo\u001b[0m\u001b[1ml\u001b[22myn\u001b[0m\u001b[1mo\u001b[22mmials4ML \u001b[0m\u001b[1mP\u001b[22mo\u001b[0m\u001b[1ml\u001b[22myn\u001b[0m\u001b[1mo\u001b[22mmialGTM\n",
      "\n",
      "Stacktrace:\n",
      " [1] pkgerror(msg::String)\n",
      "   @ Pkg.Types C:\\Users\\yu-ki\\.julia\\juliaup\\julia-1.11.2+0.x64.w64.mingw32\\share\\julia\\stdlib\\v1.11\\Pkg\\src\\Types.jl:68\n",
      " [2] ensure_resolved(ctx::Pkg.Types.Context, manifest::Pkg.Types.Manifest, pkgs::Vector{Pkg.Types.PackageSpec}; registry::Bool)\n",
      "   @ Pkg.Types C:\\Users\\yu-ki\\.julia\\juliaup\\julia-1.11.2+0.x64.w64.mingw32\\share\\julia\\stdlib\\v1.11\\Pkg\\src\\Types.jl:1040\n",
      " [3] ensure_resolved\n",
      "   @ C:\\Users\\yu-ki\\.julia\\juliaup\\julia-1.11.2+0.x64.w64.mingw32\\share\\julia\\stdlib\\v1.11\\Pkg\\src\\Types.jl:991 [inlined]\n",
      " [4] add(ctx::Pkg.Types.Context, pkgs::Vector{Pkg.Types.PackageSpec}; preserve::Pkg.Types.PreserveLevel, platform::Base.BinaryPlatforms.Platform, target::Symbol, allow_autoprecomp::Bool, kwargs::@Kwargs{io::IOContext{IO}})\n",
      "   @ Pkg.API C:\\Users\\yu-ki\\.julia\\juliaup\\julia-1.11.2+0.x64.w64.mingw32\\share\\julia\\stdlib\\v1.11\\Pkg\\src\\API.jl:294\n",
      " [5] add(pkgs::Vector{Pkg.Types.PackageSpec}; io::IOContext{IO}, kwargs::@Kwargs{})\n",
      "   @ Pkg.API C:\\Users\\yu-ki\\.julia\\juliaup\\julia-1.11.2+0.x64.w64.mingw32\\share\\julia\\stdlib\\v1.11\\Pkg\\src\\API.jl:159\n",
      " [6] add(pkgs::Vector{Pkg.Types.PackageSpec})\n",
      "   @ Pkg.API C:\\Users\\yu-ki\\.julia\\juliaup\\julia-1.11.2+0.x64.w64.mingw32\\share\\julia\\stdlib\\v1.11\\Pkg\\src\\API.jl:148\n",
      " [7] add\n",
      "   @ C:\\Users\\yu-ki\\.julia\\juliaup\\julia-1.11.2+0.x64.w64.mingw32\\share\\julia\\stdlib\\v1.11\\Pkg\\src\\API.jl:147 [inlined]\n",
      " [8] add(pkg::String)\n",
      "   @ Pkg.API C:\\Users\\yu-ki\\.julia\\juliaup\\julia-1.11.2+0.x64.w64.mingw32\\share\\julia\\stdlib\\v1.11\\Pkg\\src\\API.jl:146\n",
      " [9] top-level scope\n",
      "   @ d:\\workspace_win\\research_B\\research\\program\\jl_notebook_cell_df34fa98e69747e1a8f8a730347b8e2f_W0sZmlsZQ==.jl:1"
     ]
    }
   ],
   "source": [
    "using PyPlot\n",
    "\n",
    "size = [50, 100, 150, 200]\n",
    "\n",
    "result = [\n",
    "  0.22815114629236252,\n",
    "  0.11455533660051737,\n",
    "  0.07655718822651922,\n",
    "  0.05749210273025131\n",
    "]\n",
    "\n",
    "x_range=[0,250]\n",
    "\n",
    "scatter(size, result)\n",
    "xlabel!(\"Size of fourier\")\n",
    "ylabel!(\"Norm value\")\n",
    "xticks!(size)\n",
    "xlims!(x_range)\n",
    "\n",
    "func = fit(size,result,2)\n",
    "xp=Vector(x_range)\n",
    "plot(xp,func(xp))"
   ]
  },
  {
   "cell_type": "code",
   "execution_count": 10,
   "metadata": {},
   "outputs": [
    {
     "data": {
      "text/plain": [
       "\"c:\\\\Users\\\\yuki saito\\\\workspace\\\\research_B\\\\research\\\\program\\\\test.png\""
      ]
     },
     "metadata": {},
     "output_type": "display_data"
    }
   ],
   "source": [
    "using Plots\n",
    "\n",
    "size = [50, 100, 150, 200]\n",
    "\n",
    "result = [\n",
    "  0.22815114629236252,\n",
    "  0.11455533660051737,\n",
    "  0.07655718822651922,\n",
    "  0.05749210273025131\n",
    "]\n",
    "x_range=[0,250]\n",
    "\n",
    "scatter(size, result, label=\"\", fmt=:png)\n",
    "xlabel!(\"Size of fourier\")\n",
    "ylabel!(\"Norm value\")\n",
    "xticks!(size)\n",
    "xlims!(0,250)\n",
    "ylims!(0,0.3)\n",
    "\n",
    "savefig(\"test.png\")  "
   ]
  }
 ],
 "metadata": {
  "kernelspec": {
   "display_name": "Julia 1.11.2",
   "language": "julia",
   "name": "julia-1.11"
  },
  "language_info": {
   "file_extension": ".jl",
   "mimetype": "application/julia",
   "name": "julia",
   "version": "1.11.2"
  }
 },
 "nbformat": 4,
 "nbformat_minor": 2
}
